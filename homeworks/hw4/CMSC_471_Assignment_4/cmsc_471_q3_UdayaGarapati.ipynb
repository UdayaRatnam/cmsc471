{
 "cells": [
  {
   "cell_type": "code",
   "execution_count": 1,
   "id": "a7461d8a",
   "metadata": {},
   "outputs": [],
   "source": [
    "#https://betterprogramming.pub/how-to-divide-data-into-train-and-test-assuring-representativeness-c4c12c215d79\n",
    "#https://pandas.pydata.org/pandas-docs/stable/reference/api/pandas.DataFrame.fillna.html\n",
    "#https://benalexkeen.com/random-forests-in-python-using-scikit-learn/\n",
    "#https://medium.com/analytics-vidhya/evaluating-a-random-forest-model-9d165595ad56\n",
    "#https://medium.com/@pandeypragati2112/svm-and-random-forest-a-case-study-6213da5be02f\n",
    "import numpy as np\n",
    "import pandas as pd\n",
    "from sklearn.model_selection import train_test_split\n",
    "from sklearn.ensemble import RandomForestClassifier\n",
    "from sklearn.metrics import classification_report\n",
    "from sklearn import svm\n",
    "from sklearn.svm import SVC\n",
    "from sklearn.naive_bayes import GaussianNB\n",
    "from sklearn.metrics import accuracy_score\n",
    "from sklearn.linear_model import LogisticRegression\n",
    "from sklearn.tree import DecisionTreeClassifier\n",
    "df_train = pd.read_csv('titanic_train.csv')\n",
    "df_train = df_train.drop(['PassengerId', 'Name', 'Ticket', 'Cabin'], axis=1)\n",
    "df_train['Embarked'].fillna('S', inplace = True)\n",
    "df_train['Age'].fillna(value=df_train['Age'].mean(), inplace=True)"
   ]
  },
  {
   "cell_type": "code",
   "execution_count": 2,
   "id": "d49aa089",
   "metadata": {},
   "outputs": [],
   "source": [
    "values1 = [0,1]\n",
    "values2 = [0,1,2]\n",
    "df_train['Embarked'].replace(['S', 'C', 'Q'], values2, inplace=True)\n",
    "df_train['Sex'].replace(['male', 'female'], values1, inplace=True)"
   ]
  },
  {
   "cell_type": "code",
   "execution_count": 3,
   "id": "1528e905",
   "metadata": {
    "scrolled": false
   },
   "outputs": [],
   "source": [
    "\n",
    "features = df_train.loc[:, [\"Pclass\", \"Sex\", \"Age\", \"SibSp\", \"Parch\", \"Fare\", \"Embarked\"]]\n",
    "features.shape\n",
    "label = df_train.loc[:,'Survived']\n",
    "label.shape\n",
    "f_temp = features.to_numpy()\n",
    "l = label.to_numpy()\n",
    "x_train, x_test, y_train, y_test = train_test_split(f_temp, l, test_size=0.33, random_state=20)\n",
    "rfc = RandomForestClassifier(random_state=0)\n",
    "rfc.fit(x_train, y_train)\n",
    "yPred = rfc.predict(x_test)"
   ]
  },
  {
   "cell_type": "code",
   "execution_count": 4,
   "id": "252def34",
   "metadata": {},
   "outputs": [
    {
     "data": {
      "text/plain": [
       "326"
      ]
     },
     "execution_count": 4,
     "metadata": {},
     "output_type": "execute_result"
    }
   ],
   "source": [
    "f = open(\"output_titanic.txt\", \"w\")\n",
    "f.write(\"RANDOM FOREST\\n\")\n",
    "f.write(classification_report(y_test, yPred))"
   ]
  },
  {
   "cell_type": "code",
   "execution_count": 5,
   "id": "906139d3",
   "metadata": {},
   "outputs": [],
   "source": [
    "df_test = pd.read_csv('titanic_test.csv')\n"
   ]
  },
  {
   "cell_type": "code",
   "execution_count": 6,
   "id": "f5287678",
   "metadata": {},
   "outputs": [],
   "source": [
    "df_test['Age'].fillna(value=df_test['Age'].mean(), inplace=True)\n",
    "df_test['Fare'].fillna(value=df_test['Fare'].mean(), inplace=True)\n",
    "values1 = [0,1,2]\n",
    "values2 = [0,1]\n",
    "df_test['Embarked'].replace(['S', 'C', 'Q'], values1, inplace=True)\n",
    "df_test['Sex'].replace(['male', 'female'], values2, inplace=True)\n"
   ]
  },
  {
   "cell_type": "code",
   "execution_count": 7,
   "id": "964363ce",
   "metadata": {},
   "outputs": [],
   "source": [
    "\n",
    "f_test = df_test.loc[:, [\"Pclass\", \"Sex\", \"Age\", \"SibSp\", \"Parch\", \"Fare\", \"Embarked\"]]\n",
    "f_temp = f_test.to_numpy()\n",
    "predict = rfc.predict(f_temp)\n",
    "df_test.insert(0, \"Random Forest\", predict, True)"
   ]
  },
  {
   "cell_type": "code",
   "execution_count": 8,
   "id": "7ad87576",
   "metadata": {},
   "outputs": [],
   "source": [
    "logreg = LogisticRegression(solver='lbfgs', max_iter=1000)\n",
    "\n",
    "logreg.fit(x_train, y_train)\n",
    "\n",
    "y_pred = logreg.predict(x_test)\n",
    "\n",
    "\n",
    "\n",
    "f.write(\"\\nLogistic Regression\\n\")\n",
    "f.write(classification_report(y_test, y_pred))\n",
    "predict = logreg.predict(f_temp)\n",
    "df_test.insert(0, \"Logistic Regression\", predict, True)\n"
   ]
  },
  {
   "cell_type": "code",
   "execution_count": 9,
   "id": "8f2d1e53",
   "metadata": {},
   "outputs": [],
   "source": [
    "svm = SVC(kernel='linear')\n",
    "\n",
    "svm.fit(x_train, y_train)\n",
    "\n",
    "y_pred = svm.predict(x_test)\n",
    "\n",
    "f.write(\"\\n\")\n",
    "f.write(\"\\nSVM\\n\")\n",
    "f.write(classification_report(y_test, y_pred))\n",
    "predict = svm.predict(f_temp)\n",
    "df_test.insert(0, \"Survived SVM\", predict, True)"
   ]
  },
  {
   "cell_type": "code",
   "execution_count": 10,
   "id": "8a1515e2",
   "metadata": {},
   "outputs": [
    {
     "data": {
      "text/html": [
       "<div>\n",
       "<style scoped>\n",
       "    .dataframe tbody tr th:only-of-type {\n",
       "        vertical-align: middle;\n",
       "    }\n",
       "\n",
       "    .dataframe tbody tr th {\n",
       "        vertical-align: top;\n",
       "    }\n",
       "\n",
       "    .dataframe thead th {\n",
       "        text-align: right;\n",
       "    }\n",
       "</style>\n",
       "<table border=\"1\" class=\"dataframe\">\n",
       "  <thead>\n",
       "    <tr style=\"text-align: right;\">\n",
       "      <th></th>\n",
       "      <th>Survived GaussianNB</th>\n",
       "      <th>Survived SVM</th>\n",
       "      <th>Logistic Regression</th>\n",
       "      <th>Random Forest</th>\n",
       "      <th>PassengerId</th>\n",
       "      <th>Pclass</th>\n",
       "      <th>Name</th>\n",
       "      <th>Age</th>\n",
       "      <th>SibSp</th>\n",
       "      <th>Parch</th>\n",
       "      <th>Ticket</th>\n",
       "      <th>Fare</th>\n",
       "      <th>Cabin</th>\n",
       "      <th>Embarked</th>\n",
       "    </tr>\n",
       "  </thead>\n",
       "  <tbody>\n",
       "    <tr>\n",
       "      <th>0</th>\n",
       "      <td>0</td>\n",
       "      <td>0</td>\n",
       "      <td>0</td>\n",
       "      <td>0</td>\n",
       "      <td>892</td>\n",
       "      <td>3</td>\n",
       "      <td>Kelly, Mr. James</td>\n",
       "      <td>34.5</td>\n",
       "      <td>0</td>\n",
       "      <td>0</td>\n",
       "      <td>330911</td>\n",
       "      <td>7.8292</td>\n",
       "      <td>NaN</td>\n",
       "      <td>2</td>\n",
       "    </tr>\n",
       "    <tr>\n",
       "      <th>1</th>\n",
       "      <td>1</td>\n",
       "      <td>1</td>\n",
       "      <td>0</td>\n",
       "      <td>0</td>\n",
       "      <td>893</td>\n",
       "      <td>3</td>\n",
       "      <td>Wilkes, Mrs. James (Ellen Needs)</td>\n",
       "      <td>47.0</td>\n",
       "      <td>1</td>\n",
       "      <td>0</td>\n",
       "      <td>363272</td>\n",
       "      <td>7.0</td>\n",
       "      <td>NaN</td>\n",
       "      <td>0</td>\n",
       "    </tr>\n",
       "    <tr>\n",
       "      <th>2</th>\n",
       "      <td>0</td>\n",
       "      <td>0</td>\n",
       "      <td>0</td>\n",
       "      <td>0</td>\n",
       "      <td>894</td>\n",
       "      <td>2</td>\n",
       "      <td>Myles, Mr. Thomas Francis</td>\n",
       "      <td>62.0</td>\n",
       "      <td>0</td>\n",
       "      <td>0</td>\n",
       "      <td>240276</td>\n",
       "      <td>9.6875</td>\n",
       "      <td>NaN</td>\n",
       "      <td>2</td>\n",
       "    </tr>\n",
       "    <tr>\n",
       "      <th>3</th>\n",
       "      <td>0</td>\n",
       "      <td>0</td>\n",
       "      <td>0</td>\n",
       "      <td>0</td>\n",
       "      <td>895</td>\n",
       "      <td>3</td>\n",
       "      <td>Wirz, Mr. Albert</td>\n",
       "      <td>27.0</td>\n",
       "      <td>0</td>\n",
       "      <td>0</td>\n",
       "      <td>315154</td>\n",
       "      <td>8.6625</td>\n",
       "      <td>NaN</td>\n",
       "      <td>0</td>\n",
       "    </tr>\n",
       "    <tr>\n",
       "      <th>4</th>\n",
       "      <td>1</td>\n",
       "      <td>1</td>\n",
       "      <td>1</td>\n",
       "      <td>0</td>\n",
       "      <td>896</td>\n",
       "      <td>3</td>\n",
       "      <td>Hirvonen, Mrs. Alexander (Helga E Lindqvist)</td>\n",
       "      <td>22.0</td>\n",
       "      <td>1</td>\n",
       "      <td>1</td>\n",
       "      <td>3101298</td>\n",
       "      <td>12.2875</td>\n",
       "      <td>NaN</td>\n",
       "      <td>0</td>\n",
       "    </tr>\n",
       "  </tbody>\n",
       "</table>\n",
       "</div>"
      ],
      "text/plain": [
       "  Survived GaussianNB Survived SVM Logistic Regression Random Forest  \\\n",
       "0                   0            0                   0             0   \n",
       "1                   1            1                   0             0   \n",
       "2                   0            0                   0             0   \n",
       "3                   0            0                   0             0   \n",
       "4                   1            1                   1             0   \n",
       "\n",
       "  PassengerId Pclass                                          Name   Age  \\\n",
       "0         892      3                              Kelly, Mr. James  34.5   \n",
       "1         893      3              Wilkes, Mrs. James (Ellen Needs)  47.0   \n",
       "2         894      2                     Myles, Mr. Thomas Francis  62.0   \n",
       "3         895      3                              Wirz, Mr. Albert  27.0   \n",
       "4         896      3  Hirvonen, Mrs. Alexander (Helga E Lindqvist)  22.0   \n",
       "\n",
       "  SibSp Parch   Ticket     Fare Cabin Embarked  \n",
       "0     0     0   330911   7.8292   NaN        2  \n",
       "1     1     0   363272      7.0   NaN        0  \n",
       "2     0     0   240276   9.6875   NaN        2  \n",
       "3     0     0   315154   8.6625   NaN        0  \n",
       "4     1     1  3101298  12.2875   NaN        0  "
      ]
     },
     "execution_count": 10,
     "metadata": {},
     "output_type": "execute_result"
    }
   ],
   "source": [
    "\n",
    "gnb = GaussianNB()\n",
    "gnb.fit(x_train, y_train)\n",
    "y_pred = gnb.predict(x_test)\n",
    "f.write(\"\\nGaussian Naive Bayes (Extra Credit)\\n\")\n",
    "f.write(classification_report(y_test, y_pred))\n",
    "predict = gnb.predict(f_temp)\n",
    "df_test.insert(0, \"Survived GaussianNB\", predict, True)\n",
    "df_final = df_test.T.drop_duplicates().T\n",
    "df_final.head(5)\n"
   ]
  },
  {
   "cell_type": "code",
   "execution_count": 11,
   "id": "5724e962",
   "metadata": {},
   "outputs": [],
   "source": [
    "df_test.to_csv('titanic_test.csv', mode='w', header=True, index=False)\n",
    "f.close()"
   ]
  },
  {
   "cell_type": "code",
   "execution_count": null,
   "id": "d7c9d1f4",
   "metadata": {},
   "outputs": [],
   "source": []
  },
  {
   "cell_type": "code",
   "execution_count": null,
   "id": "2467c3a2",
   "metadata": {},
   "outputs": [],
   "source": []
  }
 ],
 "metadata": {
  "kernelspec": {
   "display_name": "Python 3 (ipykernel)",
   "language": "python",
   "name": "python3"
  },
  "language_info": {
   "codemirror_mode": {
    "name": "ipython",
    "version": 3
   },
   "file_extension": ".py",
   "mimetype": "text/x-python",
   "name": "python",
   "nbconvert_exporter": "python",
   "pygments_lexer": "ipython3",
   "version": "3.9.13"
  }
 },
 "nbformat": 4,
 "nbformat_minor": 5
}
